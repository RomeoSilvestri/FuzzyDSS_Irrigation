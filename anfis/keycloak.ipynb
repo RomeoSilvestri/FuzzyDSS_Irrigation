{
 "cells": [
  {
   "cell_type": "code",
   "id": "initial_id",
   "metadata": {
    "collapsed": true,
    "ExecuteTime": {
     "end_time": "2025-06-19T13:25:18.158501Z",
     "start_time": "2025-06-19T13:25:17.488598Z"
    }
   },
   "source": [
    "import os\n",
    "import csv\n",
    "import requests\n",
    "from dotenv import load_dotenv\n",
    "\n",
    "load_dotenv()\n",
    "\n",
    "KEYCLOAK_URL = os.getenv(\"KEYCLOAK_URL\").rstrip(\"/\")\n",
    "REALM = os.getenv(\"KEYCLOAK_REALM\")\n",
    "CLIENT_ID = os.getenv(\"KEYCLOAK_CLIENT_ID\")\n",
    "USERNAME = os.getenv(\"KEYCLOAK_USERNAME\")\n",
    "PASSWORD = os.getenv(\"KEYCLOAK_PASSWORD\")\n",
    "API_URL = os.getenv(\"API_URL\")\n",
    "\n",
    "def get_access_token():\n",
    "    token_url = f\"{KEYCLOAK_URL}/realms/{REALM}/protocol/openid-connect/token\"\n",
    "    data = {\n",
    "        \"grant_type\": \"password\",\n",
    "        \"client_id\": CLIENT_ID,\n",
    "        \"username\": USERNAME,\n",
    "        \"password\": PASSWORD\n",
    "    }\n",
    "    response = requests.post(token_url, data=data)\n",
    "    response.raise_for_status()\n",
    "    return response.json()[\"access_token\"]\n",
    "\n",
    "def call_protected_api(token):\n",
    "    headers = {\"Authorization\": f\"Bearer {token}\"}\n",
    "    response = requests.get(API_URL, headers=headers)\n",
    "    response.raise_for_status()\n",
    "    return response.json()\n",
    "\n",
    "def filter_and_process_devices(data, prefix=\"CSRovere_Contatore\"):\n",
    "    devices = []\n",
    "    for item in data.get(\"data\", []):\n",
    "        device = item.get(\"device\", {})\n",
    "        device_name = device.get(\"name\", \"\")\n",
    "        if device_name.startswith(prefix):\n",
    "            feature = item.get(\"location\", {}).get(\"feature\", \"\")\n",
    "            if feature.startswith(\"POINT(\"):\n",
    "                try:\n",
    "                    coords = feature.replace(\"POINT(\", \"\").replace(\")\", \"\").split()\n",
    "                    lat, lon = coords[0], coords[1]\n",
    "                    print(f\"{device_name} -> lat: {lat}, lon: {lon}\")\n",
    "                    devices.append({\"name\": device_name, \"latitude\": lat, \"longitude\": lon})\n",
    "                except Exception as e:\n",
    "                    print(f\"Errore nel parsing per '{device_name}': {e}\")\n",
    "    return devices\n",
    "\n",
    "def save_to_csv(devices, filename=\"devices.csv\"):\n",
    "    with open(filename, mode=\"w\", newline=\"\") as csvfile:\n",
    "        fieldnames = [\"name\", \"latitude\", \"longitude\"]\n",
    "        writer = csv.DictWriter(csvfile, fieldnames=fieldnames)\n",
    "        writer.writeheader()\n",
    "        writer.writerows(devices)\n",
    "    print(f\"\\n{len(devices)} dispositivi salvati nel file '{filename}'.\")\n",
    "\n",
    "if __name__ == \"__main__\":\n",
    "    token = get_access_token()\n",
    "    data = call_protected_api(token)\n",
    "    devices = filter_and_process_devices(data)\n",
    "    save_to_csv(devices)\n"
   ],
   "outputs": [
    {
     "name": "stdout",
     "output_type": "stream",
     "text": [
      "CSRovere_ContatoreG2Mis_Lagrein2_Irritre -> lat: 46.252325, lon: 11.172134\n",
      "CSRovere_ContatoreG2Mis_Feldi_irritre -> lat: 46.245002, lon: 11.164803\n",
      "CSRovere_ContatoreG2Mis_Irritre_Settore_FeldiAlti -> lat: 46.246968, lon: 11.170983\n",
      "CSRovere_ContatoreG2Mis_Irritre_Settore_Ronchi -> lat: 46.249691, lon: 11.163422\n",
      "CSRovere_ContatoreG2Mis_Irritre_Settore_FeldiBassi -> lat: 46.24579, lon: 11.161498\n",
      "CSRovere_ContatoreG2Mis_Irritre_Settore_Lagrain2 -> lat: 46.252323, lon: 11.1721\n",
      "CSRovere_ContatoreG2Mis_Irritre_Settore_Feldi -> lat: 46.245108, lon: 11.164813\n",
      "CSRovere_ContatoreG2Mis_Irritre_Settore_Righeli -> lat: 46.251625, lon: 11.179056\n",
      "\n",
      "8 dispositivi salvati nel file 'devices.csv'.\n"
     ]
    }
   ],
   "execution_count": 3
  },
  {
   "metadata": {
    "ExecuteTime": {
     "end_time": "2025-06-19T13:49:34.747712Z",
     "start_time": "2025-06-19T13:49:33.873166Z"
    }
   },
   "cell_type": "code",
   "source": [
    "import os\n",
    "import csv\n",
    "import requests\n",
    "from dotenv import load_dotenv\n",
    "\n",
    "load_dotenv()\n",
    "\n",
    "KEYCLOAK_URL = os.getenv(\"KEYCLOAK_URL\").rstrip(\"/\")\n",
    "REALM = os.getenv(\"KEYCLOAK_REALM\")\n",
    "CLIENT_ID = os.getenv(\"KEYCLOAK_CLIENT_ID\")\n",
    "USERNAME = os.getenv(\"KEYCLOAK_USERNAME\")\n",
    "PASSWORD = os.getenv(\"KEYCLOAK_PASSWORD\")\n",
    "METEO_API_URL = \"https://irritre-sensor.azure.openiotlab.eu/api/device-locations\"  # nuova API meteo\n",
    "\n",
    "def get_access_token():\n",
    "    token_url = f\"{KEYCLOAK_URL}/realms/{REALM}/protocol/openid-connect/token\"\n",
    "    data = {\n",
    "        \"grant_type\": \"password\",\n",
    "        \"client_id\": CLIENT_ID,\n",
    "        \"username\": USERNAME,\n",
    "        \"password\": PASSWORD\n",
    "    }\n",
    "    resp = requests.post(token_url, data=data)\n",
    "    resp.raise_for_status()\n",
    "    return resp.json()[\"access_token\"]\n",
    "\n",
    "def call_meteo_api(token):\n",
    "    headers = {\"Authorization\": f\"Bearer {token}\"}\n",
    "    resp = requests.get(METEO_API_URL, headers=headers)\n",
    "    resp.raise_for_status()\n",
    "    return resp.json()\n",
    "\n",
    "def extract_and_save_stations(data, filename=\"weather_stations.csv\", prefix=None):\n",
    "    stations = []\n",
    "    for item in data.get(\"data\", []):\n",
    "        name = item.get(\"name\") or item.get(\"station_name\") or \"\"\n",
    "        feature = item.get(\"location\", {}).get(\"feature\", \"\")\n",
    "        if feature.startswith(\"POINT(\"):\n",
    "            try:\n",
    "                lat, lon = feature.replace(\"POINT(\", \"\").replace(\")\", \"\").split()\n",
    "                # se c'è un prefix lo applichiamo\n",
    "                if prefix is None or name.startswith(prefix):\n",
    "                    print(f\"{name} -> lat: {lat}, lon: {lon}\")\n",
    "                    stations.append({\"name\": name, \"latitude\": lat, \"longitude\": lon})\n",
    "            except Exception as e:\n",
    "                print(f\"Errore nel parsing per '{name}': {e}\")\n",
    "\n",
    "    with open(filename, \"w\", newline=\"\") as csvfile:\n",
    "        writer = csv.DictWriter(csvfile, fieldnames=[\"name\", \"latitude\", \"longitude\"])\n",
    "        writer.writeheader()\n",
    "        writer.writerows(stations)\n",
    "    print(f\"\\n{len(stations)} stazioni salvate in '{filename}'.\")\n",
    "\n",
    "if __name__ == \"__main__\":\n",
    "    token = get_access_token()\n",
    "    meteo_data = call_meteo_api(token)\n",
    "    extract_and_save_stations(meteo_data)\n"
   ],
   "id": "777dc007d2619df4",
   "outputs": [
    {
     "name": "stdout",
     "output_type": "stream",
     "text": [
      " -> lat: 46.252325, lon: 11.172134\n",
      " -> lat: 46.245002, lon: 11.164803\n",
      " -> lat: 46.245791, lon: 11.161646\n",
      " -> lat: 46.246968, lon: 11.170983\n",
      " -> lat: 46.249691, lon: 11.163422\n",
      " -> lat: 46.24579, lon: 11.161498\n",
      " -> lat: 46.252323, lon: 11.1721\n",
      " -> lat: 46.245108, lon: 11.164813\n",
      " -> lat: 46.251625, lon: 11.179056\n",
      " -> lat: 46.322496, lon: 11.091914\n",
      " -> lat: 46.247697, lon: 11.181276\n",
      " -> lat: 46.256852, lon: 11.162863\n",
      " -> lat: 46.31596, lon: 11.089941\n",
      " -> lat: 46.324905, lon: 11.091405\n",
      " -> lat: 46.325195, lon: 11.095244\n",
      "\n",
      "15 stazioni salvate in 'weather_stations.csv'.\n"
     ]
    }
   ],
   "execution_count": 5
  },
  {
   "metadata": {
    "ExecuteTime": {
     "end_time": "2025-06-19T14:02:12.554807Z",
     "start_time": "2025-06-19T14:02:12.537547Z"
    }
   },
   "cell_type": "code",
   "source": [
    "import csv\n",
    "\n",
    "# Dati delle due stazioni meteo selezionate\n",
    "stations = [\n",
    "    {\"name\": \"meteo_station_1\", \"latitude\": 46.245791, \"longitude\": 11.161646},\n",
    "    {\"name\": \"meteo_station_2\", \"latitude\": 46.251625, \"longitude\": 11.179056}\n",
    "]\n",
    "\n",
    "# Nome del file CSV di output\n",
    "output_file = \"meteo_stations.csv\"\n",
    "\n",
    "# Scrittura nel file CSV\n",
    "with open(output_file, mode='w', newline='') as csvfile:\n",
    "    fieldnames = [\"name\", \"latitude\", \"longitude\"]\n",
    "    writer = csv.DictWriter(csvfile, fieldnames=fieldnames)\n",
    "\n",
    "    writer.writeheader()\n",
    "    for station in stations:\n",
    "        writer.writerow(station)\n",
    "\n",
    "print(f\"CSV salvato con successo in '{output_file}'\")"
   ],
   "id": "e904b5e9a185a93d",
   "outputs": [
    {
     "name": "stdout",
     "output_type": "stream",
     "text": [
      "CSV salvato con successo in 'meteo_stations.csv'\n"
     ]
    }
   ],
   "execution_count": 6
  },
  {
   "metadata": {},
   "cell_type": "code",
   "outputs": [],
   "execution_count": null,
   "source": "",
   "id": "285d717b371f40a7"
  }
 ],
 "metadata": {
  "kernelspec": {
   "display_name": "Python 3",
   "language": "python",
   "name": "python3"
  },
  "language_info": {
   "codemirror_mode": {
    "name": "ipython",
    "version": 2
   },
   "file_extension": ".py",
   "mimetype": "text/x-python",
   "name": "python",
   "nbconvert_exporter": "python",
   "pygments_lexer": "ipython2",
   "version": "2.7.6"
  }
 },
 "nbformat": 4,
 "nbformat_minor": 5
}
