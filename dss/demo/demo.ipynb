{
 "cells": [
  {
   "cell_type": "code",
   "id": "initial_id",
   "metadata": {
    "collapsed": true,
    "ExecuteTime": {
     "end_time": "2025-02-15T16:06:51.296935Z",
     "start_time": "2025-02-15T16:06:43.815011Z"
    }
   },
   "source": [
    "# Path & Libraries\n",
    "\n",
    "import sys\n",
    "import os\n",
    "import warnings\n",
    "\n",
    "sys.path.append(os.path.abspath('dss'))\n",
    "warnings.filterwarnings('ignore')\n",
    "\n",
    "import pandas as pd\n",
    "import pickle\n",
    "import zipfile\n",
    "\n",
    "from dss.package.dss_package import apply_decision_system, reverse_categorize_irrigation, show_figure"
   ],
   "outputs": [],
   "execution_count": 1
  },
  {
   "metadata": {},
   "cell_type": "code",
   "outputs": [],
   "execution_count": null,
   "source": [
    "# Data Loading & Pre-Processing\n",
    "\n",
    "zip_path = 'models_ml.zip'\n",
    "model_name = 'xgb_small_model.pkl'\n",
    "with zipfile.ZipFile(zip_path, 'r') as zipf:\n",
    "    with zipf.open(model_name) as file:\n",
    "        xgb_model = pickle.load(file)\n",
    "\n",
    "dss_file_path = 'model_dss.pkl'\n",
    "with open(dss_file_path, 'rb') as file:\n",
    "    dss = pickle.load(file)\n",
    "\n",
    "\n",
    "file_path = '../data/dss_data_rovere.csv'\n",
    "start_date = '2023-05-01'\n",
    "end_date = '2023-08-31'"
   ],
   "id": "992afb44db4469f3"
  },
  {
   "metadata": {},
   "cell_type": "code",
   "outputs": [],
   "execution_count": null,
   "source": "",
   "id": "38d1b4a106dc92b8"
  }
 ],
 "metadata": {
  "kernelspec": {
   "display_name": "Python 3",
   "language": "python",
   "name": "python3"
  },
  "language_info": {
   "codemirror_mode": {
    "name": "ipython",
    "version": 2
   },
   "file_extension": ".py",
   "mimetype": "text/x-python",
   "name": "python",
   "nbconvert_exporter": "python",
   "pygments_lexer": "ipython2",
   "version": "2.7.6"
  }
 },
 "nbformat": 4,
 "nbformat_minor": 5
}
