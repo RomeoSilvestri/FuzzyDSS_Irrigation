{
 "cells": [
  {
   "cell_type": "code",
   "id": "99a992d9-0454-4c11-a8f9-733e5658549a",
   "metadata": {
    "ExecuteTime": {
     "end_time": "2024-08-06T14:36:30.656700Z",
     "start_time": "2024-08-06T14:36:29.778924Z"
    }
   },
   "source": [
    "# Path & Libraries\n",
    "\n",
    "import sys \n",
    "import os \n",
    "import warnings\n",
    "\n",
    "sys.path.append(os.path.abspath('dss'))\n",
    "warnings.filterwarnings('ignore')\n",
    "\n",
    "from datetime import datetime\n",
    "import pandas as pd\n",
    "\n",
    "from dss.package.dss_package import load_scenarios"
   ],
   "execution_count": 1,
   "outputs": []
  },
  {
   "cell_type": "code",
   "id": "9322b70e-6dbd-45a2-a747-bbed7b8e76fa",
   "metadata": {
    "ExecuteTime": {
     "end_time": "2024-06-10T14:29:42.419797Z",
     "start_time": "2024-06-10T14:29:42.404164Z"
    }
   },
   "source": "",
   "execution_count": 3,
   "outputs": []
  },
  {
   "cell_type": "code",
   "id": "20d733ef-6096-4dae-b72b-e6074010f8aa",
   "metadata": {
    "ExecuteTime": {
     "end_time": "2024-08-06T14:36:49.855824Z",
     "start_time": "2024-08-06T14:36:49.816788Z"
    }
   },
   "source": [
    "file_path = '../data/clean_data_rovere.csv'\n",
    "clean_data = pd.read_csv(file_path)\n",
    "\n",
    "clean_data"
   ],
   "execution_count": 2,
   "outputs": []
  },
  {
   "cell_type": "code",
   "id": "fc72271e-b241-4b83-9a4a-af288ed85875",
   "metadata": {
    "ExecuteTime": {
     "end_time": "2024-08-06T14:37:49.814699Z",
     "start_time": "2024-08-06T14:37:49.733971Z"
    }
   },
   "source": [
    "# Scenario 1\n",
    "\n",
    "date_value = datetime.strptime('2023-06-23', '%Y-%m-%d').date()\n",
    "sensor_id_value = '72'\n",
    "filtered_data = load_scenarios(clean_data, date_value, sensor_id_value)\n",
    "filtered_data"
   ],
   "execution_count": 7,
   "outputs": []
  },
  {
   "cell_type": "code",
   "id": "fb14a954-5a08-4be4-9a78-01d2499a5e42",
   "metadata": {
    "ExecuteTime": {
     "end_time": "2024-06-10T14:29:56.653090Z",
     "start_time": "2024-06-10T14:29:56.621901Z"
    }
   },
   "source": [
    "date_value = datetime.strptime('2023-06-23', '%Y-%m-%d').date()\n",
    "sensor_id_value = '71'\n",
    "filtered_data = load_scenarios(clean_data, date_value, sensor_id_value)\n",
    "filtered_data"
   ],
   "execution_count": 7,
   "outputs": []
  },
  {
   "cell_type": "code",
   "execution_count": 94,
   "id": "1ec26bf8-0f16-49cf-92c0-4eeec29de5fd",
   "metadata": {},
   "source": [
    "# Scenario 2\n",
    "\n",
    "date_value = datetime.strptime('2023-06-28', '%Y-%m-%d').date()\n",
    "sensor_id_value = '72'\n",
    "filtered_data = load_scenarios(clean_data, date_value, sensor_id_value)\n",
    "filtered_data"
   ],
   "outputs": []
  },
  {
   "cell_type": "code",
   "execution_count": 95,
   "id": "b3fca625-82dd-4f70-a7cf-d3bf81218452",
   "metadata": {},
   "source": [
    "date_value = datetime.strptime('2023-06-28', '%Y-%m-%d').date()\n",
    "sensor_id_value = '71'\n",
    "filtered_data = load_scenarios(clean_data, date_value, sensor_id_value)\n",
    "filtered_data"
   ],
   "outputs": []
  },
  {
   "cell_type": "code",
   "execution_count": 92,
   "id": "94f58d58-98d6-424c-8358-ee28a06c2164",
   "metadata": {},
   "source": [
    "# Scenario 3\n",
    "\n",
    "date_value = datetime.strptime('2023-07-03', '%Y-%m-%d').date()\n",
    "sensor_id_value = '72'\n",
    "filtered_data = load_scenarios(clean_data, date_value, sensor_id_value)\n",
    "filtered_data"
   ],
   "outputs": []
  },
  {
   "cell_type": "code",
   "execution_count": 93,
   "id": "369d1298-9d99-4a23-8205-1991c8503259",
   "metadata": {},
   "source": [
    "date_value = datetime.strptime('2023-07-03', '%Y-%m-%d').date()\n",
    "sensor_id_value = '71'\n",
    "filtered_data = load_scenarios(clean_data, date_value, sensor_id_value)\n",
    "filtered_data"
   ],
   "outputs": []
  },
  {
   "cell_type": "code",
   "execution_count": 14,
   "id": "dccc6d42-c9f1-41ff-af20-3a5551faa378",
   "metadata": {},
   "source": [
    "# Scenario 4\n",
    "\n",
    "date_value = datetime.strptime('2023-07-08', '%Y-%m-%d').date()\n",
    "sensor_id_value = '72'\n",
    "filtered_data = load_scenarios(clean_data, date_value, sensor_id_value)\n",
    "filtered_data"
   ],
   "outputs": []
  },
  {
   "cell_type": "code",
   "execution_count": 15,
   "id": "e1f548c5-5951-4f27-a800-592fb2326faf",
   "metadata": {},
   "source": [
    "date_value = datetime.strptime('2023-07-08', '%Y-%m-%d').date()\n",
    "sensor_id_value = '71'\n",
    "filtered_data = load_scenarios(clean_data, date_value, sensor_id_value)\n",
    "filtered_data"
   ],
   "outputs": []
  },
  {
   "cell_type": "code",
   "execution_count": 69,
   "id": "367e97b5-e052-464c-9289-de2985b64225",
   "metadata": {},
   "source": [
    "# Scenario 5\n",
    "\n",
    "date_value = datetime.strptime('2023-07-16', '%Y-%m-%d').date()\n",
    "sensor_id_value = '72'\n",
    "filtered_data = load_scenarios(clean_data, date_value, sensor_id_value)\n",
    "filtered_data"
   ],
   "outputs": []
  },
  {
   "cell_type": "code",
   "execution_count": 70,
   "id": "4685157c-53c2-4701-a959-0c943540895c",
   "metadata": {},
   "source": [
    "date_value = datetime.strptime('2023-07-16', '%Y-%m-%d').date()\n",
    "sensor_id_value = '71'\n",
    "filtered_data = load_scenarios(clean_data, date_value, sensor_id_value)\n",
    "filtered_data"
   ],
   "outputs": []
  },
  {
   "cell_type": "code",
   "execution_count": 96,
   "id": "612af0b1-fd09-411a-8bff-15425c86d6bd",
   "metadata": {},
   "source": [
    "# Scenario 6\n",
    "\n",
    "date_value = datetime.strptime('2023-07-20', '%Y-%m-%d').date()\n",
    "sensor_id_value = '72'\n",
    "filtered_data = load_scenarios(clean_data, date_value, sensor_id_value)\n",
    "filtered_data"
   ],
   "outputs": []
  },
  {
   "cell_type": "code",
   "execution_count": 97,
   "id": "36e2f7d6-6f34-4b69-83f7-b8c19d1573bd",
   "metadata": {},
   "source": [
    "date_value = datetime.strptime('2023-07-20', '%Y-%m-%d').date()\n",
    "sensor_id_value = '71'\n",
    "filtered_data = load_scenarios(clean_data, date_value, sensor_id_value)\n",
    "filtered_data"
   ],
   "outputs": []
  },
  {
   "cell_type": "code",
   "execution_count": 98,
   "id": "51f3f3c7-4236-4dbb-bcdc-5f18609e5c1d",
   "metadata": {},
   "source": [
    "# Scenario 7\n",
    "\n",
    "date_value = datetime.strptime('2023-08-02', '%Y-%m-%d').date()\n",
    "sensor_id_value = '72'\n",
    "filtered_data = load_scenarios(clean_data, date_value, sensor_id_value)\n",
    "filtered_data"
   ],
   "outputs": []
  },
  {
   "cell_type": "code",
   "execution_count": 99,
   "id": "0edbe8a8-31bf-4b89-b2ac-27b85565647d",
   "metadata": {},
   "source": [
    "date_value = datetime.strptime('2023-08-02', '%Y-%m-%d').date()\n",
    "sensor_id_value = '71'\n",
    "filtered_data = load_scenarios(clean_data, date_value, sensor_id_value)\n",
    "filtered_data"
   ],
   "outputs": []
  },
  {
   "cell_type": "code",
   "execution_count": 100,
   "id": "e221ce29-8189-4037-892f-b73faafa2e4c",
   "metadata": {},
   "source": [
    "# Scenario 8\n",
    "\n",
    "date_value = datetime.strptime('2023-08-07', '%Y-%m-%d').date()\n",
    "sensor_id_value = '72'\n",
    "filtered_data = load_scenarios(clean_data, date_value, sensor_id_value)\n",
    "filtered_data"
   ],
   "outputs": []
  },
  {
   "cell_type": "code",
   "execution_count": 101,
   "id": "b01ad2c1-1cab-407e-a6cd-fc3a73a8c7d7",
   "metadata": {},
   "source": [
    "date_value = datetime.strptime('2023-08-07', '%Y-%m-%d').date()\n",
    "sensor_id_value = '71'\n",
    "filtered_data = load_scenarios(clean_data, date_value, sensor_id_value)\n",
    "filtered_data"
   ],
   "outputs": []
  },
  {
   "cell_type": "code",
   "execution_count": 113,
   "id": "9cb0803c-9a82-4825-8955-197690c29d83",
   "metadata": {},
   "source": [
    "# Scenario 9\n",
    "\n",
    "date_value = datetime.strptime('2023-08-17', '%Y-%m-%d').date()\n",
    "sensor_id_value = '72'\n",
    "filtered_data = load_scenarios(clean_data, date_value, sensor_id_value)\n",
    "filtered_data"
   ],
   "outputs": []
  },
  {
   "cell_type": "code",
   "execution_count": 114,
   "id": "ffac5793-de27-4d99-957a-761321db4af0",
   "metadata": {},
   "source": [
    "date_value = datetime.strptime('2023-08-17', '%Y-%m-%d').date()\n",
    "sensor_id_value = '71'\n",
    "filtered_data = load_scenarios(clean_data, date_value, sensor_id_value)\n",
    "filtered_data"
   ],
   "outputs": []
  },
  {
   "cell_type": "code",
   "execution_count": 102,
   "id": "2f5c1bc3-6a64-4d46-8420-8458517c789b",
   "metadata": {},
   "source": [
    "# Scenario 10\n",
    "\n",
    "date_value = datetime.strptime('2023-08-21', '%Y-%m-%d').date()\n",
    "sensor_id_value = '72'\n",
    "filtered_data = load_scenarios(clean_data, date_value, sensor_id_value)\n",
    "filtered_data"
   ],
   "outputs": []
  },
  {
   "cell_type": "code",
   "id": "7220ec83-5c85-40ea-898e-e63c27b3e861",
   "metadata": {
    "ExecuteTime": {
     "end_time": "2024-06-10T14:29:23.836953Z",
     "start_time": "2024-06-10T14:29:23.480280Z"
    }
   },
   "source": [
    "date_value = datetime.strptime('2023-08-21', '%Y-%m-%d').date()\n",
    "sensor_id_value = '71'\n",
    "filtered_data = load_scenarios(clean_data, date_value, sensor_id_value)\n",
    "filtered_data"
   ],
   "execution_count": 1,
   "outputs": []
  }
 ],
 "metadata": {
  "kernelspec": {
   "display_name": "Python 3 (ipykernel)",
   "language": "python",
   "name": "python3"
  },
  "language_info": {
   "codemirror_mode": {
    "name": "ipython",
    "version": 3
   },
   "file_extension": ".py",
   "mimetype": "text/x-python",
   "name": "python",
   "nbconvert_exporter": "python",
   "pygments_lexer": "ipython3",
   "version": "3.11.6"
  }
 },
 "nbformat": 4,
 "nbformat_minor": 5
}
