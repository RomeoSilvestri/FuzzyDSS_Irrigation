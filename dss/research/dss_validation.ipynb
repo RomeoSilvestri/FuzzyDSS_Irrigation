{
 "cells": [
  {
   "metadata": {
    "ExecuteTime": {
     "end_time": "2024-12-30T19:08:00.753521Z",
     "start_time": "2024-12-30T19:07:53.424296Z"
    }
   },
   "cell_type": "code",
   "source": [
    "# Path & Libraries\n",
    "\n",
    "import sys \n",
    "import os \n",
    "import warnings\n",
    "\n",
    "sys.path.append(os.path.abspath('dss'))\n",
    "warnings.filterwarnings('ignore')\n",
    "\n",
    "from dss.package import dss_package\n",
    "import matplotlib.pyplot as plt\n",
    "import numpy as np\n",
    "import random\n",
    "import pandas as pd\n",
    "from ctgan import CTGAN\n",
    "import skfuzzy as fuzz\n",
    "from deap import algorithms, base, creator, tools\n",
    "from skfuzzy import control as ctrl\n",
    "\n",
    "random.seed(0)\n",
    "\n",
    "file_path = '../data/val_irr_data.xlsx'\n",
    "val_data = pd.read_excel(file_path)\n",
    "discrete_columns = [\n",
    "    'Irrigation - Decision',\n",
    "]\n",
    "\n",
    "ctgan = CTGAN(verbose=True, epochs=100)\n",
    "ctgan.fit(val_data, discrete_columns)\n",
    "\n",
    "synthetic_data = ctgan.sample(10000)\n",
    "synthetic_data.to_csv('synthetic_data.csv', index=False)\n",
    "\n",
    "numerical_columns = val_data.select_dtypes(include=np.number).columns\n",
    "categorical_column = \"Irrigation - Decision\"\n",
    "\n",
    "input_variables = {\n",
    "    'Current Avg Tensiometer': (50, 650),\n",
    "    'Predicted Avg Tensiometer': (50, 650),\n",
    "    'Predicted Rain Amount': (0, 40),\n",
    "    'Predicted Max Temperature': (5, 40)\n",
    "}\n",
    "\n",
    "output_variable = {\n",
    "    'Irrigation - Decision': ['Not Recommended', 'Half Turn', 'Single Turn', 'Double Turn']\n",
    "}\n",
    "\n",
    "for column, (min_val, max_val) in input_variables.items():\n",
    "    synthetic_data[column] = np.clip(synthetic_data[column], min_val, max_val)"
   ],
   "id": "e7e140b5683ef1ce",
   "outputs": [
    {
     "ename": "KeyboardInterrupt",
     "evalue": "",
     "output_type": "error",
     "traceback": [
      "\u001B[1;31m---------------------------------------------------------------------------\u001B[0m",
      "\u001B[1;31mKeyboardInterrupt\u001B[0m                         Traceback (most recent call last)",
      "Cell \u001B[1;32mIn[1], line 15\u001B[0m\n\u001B[0;32m     13\u001B[0m \u001B[38;5;28;01mimport\u001B[39;00m \u001B[38;5;21;01mrandom\u001B[39;00m\n\u001B[0;32m     14\u001B[0m \u001B[38;5;28;01mimport\u001B[39;00m \u001B[38;5;21;01mpandas\u001B[39;00m \u001B[38;5;28;01mas\u001B[39;00m \u001B[38;5;21;01mpd\u001B[39;00m\n\u001B[1;32m---> 15\u001B[0m \u001B[38;5;28;01mfrom\u001B[39;00m \u001B[38;5;21;01mctgan\u001B[39;00m \u001B[38;5;28;01mimport\u001B[39;00m CTGAN\n\u001B[0;32m     16\u001B[0m \u001B[38;5;28;01mimport\u001B[39;00m \u001B[38;5;21;01mskfuzzy\u001B[39;00m \u001B[38;5;28;01mas\u001B[39;00m \u001B[38;5;21;01mfuzz\u001B[39;00m\n\u001B[0;32m     17\u001B[0m \u001B[38;5;28;01mfrom\u001B[39;00m \u001B[38;5;21;01mdeap\u001B[39;00m \u001B[38;5;28;01mimport\u001B[39;00m algorithms, base, creator, tools\n",
      "File \u001B[1;32m~\\AppData\\Local\\Programs\\Python\\Python311\\Lib\\site-packages\\ctgan\\__init__.py:10\u001B[0m\n\u001B[0;32m      7\u001B[0m __version__ \u001B[38;5;241m=\u001B[39m \u001B[38;5;124m'\u001B[39m\u001B[38;5;124m0.10.2\u001B[39m\u001B[38;5;124m'\u001B[39m\n\u001B[0;32m      9\u001B[0m \u001B[38;5;28;01mfrom\u001B[39;00m \u001B[38;5;21;01mctgan\u001B[39;00m\u001B[38;5;21;01m.\u001B[39;00m\u001B[38;5;21;01mdemo\u001B[39;00m \u001B[38;5;28;01mimport\u001B[39;00m load_demo\n\u001B[1;32m---> 10\u001B[0m \u001B[38;5;28;01mfrom\u001B[39;00m \u001B[38;5;21;01mctgan\u001B[39;00m\u001B[38;5;21;01m.\u001B[39;00m\u001B[38;5;21;01msynthesizers\u001B[39;00m\u001B[38;5;21;01m.\u001B[39;00m\u001B[38;5;21;01mctgan\u001B[39;00m \u001B[38;5;28;01mimport\u001B[39;00m CTGAN\n\u001B[0;32m     11\u001B[0m \u001B[38;5;28;01mfrom\u001B[39;00m \u001B[38;5;21;01mctgan\u001B[39;00m\u001B[38;5;21;01m.\u001B[39;00m\u001B[38;5;21;01msynthesizers\u001B[39;00m\u001B[38;5;21;01m.\u001B[39;00m\u001B[38;5;21;01mtvae\u001B[39;00m \u001B[38;5;28;01mimport\u001B[39;00m TVAE\n\u001B[0;32m     13\u001B[0m __all__ \u001B[38;5;241m=\u001B[39m (\u001B[38;5;124m'\u001B[39m\u001B[38;5;124mCTGAN\u001B[39m\u001B[38;5;124m'\u001B[39m, \u001B[38;5;124m'\u001B[39m\u001B[38;5;124mTVAE\u001B[39m\u001B[38;5;124m'\u001B[39m, \u001B[38;5;124m'\u001B[39m\u001B[38;5;124mload_demo\u001B[39m\u001B[38;5;124m'\u001B[39m)\n",
      "File \u001B[1;32m~\\AppData\\Local\\Programs\\Python\\Python311\\Lib\\site-packages\\ctgan\\synthesizers\\__init__.py:3\u001B[0m\n\u001B[0;32m      1\u001B[0m \u001B[38;5;124;03m\"\"\"Synthesizers module.\"\"\"\u001B[39;00m\n\u001B[1;32m----> 3\u001B[0m \u001B[38;5;28;01mfrom\u001B[39;00m \u001B[38;5;21;01mctgan\u001B[39;00m\u001B[38;5;21;01m.\u001B[39;00m\u001B[38;5;21;01msynthesizers\u001B[39;00m\u001B[38;5;21;01m.\u001B[39;00m\u001B[38;5;21;01mctgan\u001B[39;00m \u001B[38;5;28;01mimport\u001B[39;00m CTGAN\n\u001B[0;32m      4\u001B[0m \u001B[38;5;28;01mfrom\u001B[39;00m \u001B[38;5;21;01mctgan\u001B[39;00m\u001B[38;5;21;01m.\u001B[39;00m\u001B[38;5;21;01msynthesizers\u001B[39;00m\u001B[38;5;21;01m.\u001B[39;00m\u001B[38;5;21;01mtvae\u001B[39;00m \u001B[38;5;28;01mimport\u001B[39;00m TVAE\n\u001B[0;32m      6\u001B[0m __all__ \u001B[38;5;241m=\u001B[39m (\u001B[38;5;124m'\u001B[39m\u001B[38;5;124mCTGAN\u001B[39m\u001B[38;5;124m'\u001B[39m, \u001B[38;5;124m'\u001B[39m\u001B[38;5;124mTVAE\u001B[39m\u001B[38;5;124m'\u001B[39m)\n",
      "File \u001B[1;32m~\\AppData\\Local\\Programs\\Python\\Python311\\Lib\\site-packages\\ctgan\\synthesizers\\ctgan.py:7\u001B[0m\n\u001B[0;32m      5\u001B[0m \u001B[38;5;28;01mimport\u001B[39;00m \u001B[38;5;21;01mnumpy\u001B[39;00m \u001B[38;5;28;01mas\u001B[39;00m \u001B[38;5;21;01mnp\u001B[39;00m\n\u001B[0;32m      6\u001B[0m \u001B[38;5;28;01mimport\u001B[39;00m \u001B[38;5;21;01mpandas\u001B[39;00m \u001B[38;5;28;01mas\u001B[39;00m \u001B[38;5;21;01mpd\u001B[39;00m\n\u001B[1;32m----> 7\u001B[0m \u001B[38;5;28;01mimport\u001B[39;00m \u001B[38;5;21;01mtorch\u001B[39;00m\n\u001B[0;32m      8\u001B[0m \u001B[38;5;28;01mfrom\u001B[39;00m \u001B[38;5;21;01mtorch\u001B[39;00m \u001B[38;5;28;01mimport\u001B[39;00m optim\n\u001B[0;32m      9\u001B[0m \u001B[38;5;28;01mfrom\u001B[39;00m \u001B[38;5;21;01mtorch\u001B[39;00m\u001B[38;5;21;01m.\u001B[39;00m\u001B[38;5;21;01mnn\u001B[39;00m \u001B[38;5;28;01mimport\u001B[39;00m BatchNorm1d, Dropout, LeakyReLU, Linear, Module, ReLU, Sequential, functional\n",
      "File \u001B[1;32m~\\AppData\\Local\\Programs\\Python\\Python311\\Lib\\site-packages\\torch\\__init__.py:262\u001B[0m\n\u001B[0;32m    258\u001B[0m                     \u001B[38;5;28;01mraise\u001B[39;00m err\n\u001B[0;32m    260\u001B[0m         kernel32\u001B[38;5;241m.\u001B[39mSetErrorMode(prev_error_mode)\n\u001B[1;32m--> 262\u001B[0m     \u001B[43m_load_dll_libraries\u001B[49m\u001B[43m(\u001B[49m\u001B[43m)\u001B[49m\n\u001B[0;32m    263\u001B[0m     \u001B[38;5;28;01mdel\u001B[39;00m _load_dll_libraries\n\u001B[0;32m    266\u001B[0m \u001B[38;5;28;01mdef\u001B[39;00m \u001B[38;5;21m_preload_cuda_deps\u001B[39m(lib_folder: \u001B[38;5;28mstr\u001B[39m, lib_name: \u001B[38;5;28mstr\u001B[39m) \u001B[38;5;241m-\u001B[39m\u001B[38;5;241m>\u001B[39m \u001B[38;5;28;01mNone\u001B[39;00m:\n",
      "File \u001B[1;32m~\\AppData\\Local\\Programs\\Python\\Python311\\Lib\\site-packages\\torch\\__init__.py:238\u001B[0m, in \u001B[0;36m_load_dll_libraries\u001B[1;34m()\u001B[0m\n\u001B[0;32m    236\u001B[0m is_loaded \u001B[38;5;241m=\u001B[39m \u001B[38;5;28;01mFalse\u001B[39;00m\n\u001B[0;32m    237\u001B[0m \u001B[38;5;28;01mif\u001B[39;00m with_load_library_flags:\n\u001B[1;32m--> 238\u001B[0m     res \u001B[38;5;241m=\u001B[39m \u001B[43mkernel32\u001B[49m\u001B[38;5;241;43m.\u001B[39;49m\u001B[43mLoadLibraryExW\u001B[49m\u001B[43m(\u001B[49m\u001B[43mdll\u001B[49m\u001B[43m,\u001B[49m\u001B[43m \u001B[49m\u001B[38;5;28;43;01mNone\u001B[39;49;00m\u001B[43m,\u001B[49m\u001B[43m \u001B[49m\u001B[38;5;241;43m0x00001100\u001B[39;49m\u001B[43m)\u001B[49m\n\u001B[0;32m    239\u001B[0m     last_error \u001B[38;5;241m=\u001B[39m ctypes\u001B[38;5;241m.\u001B[39mget_last_error()\n\u001B[0;32m    240\u001B[0m     \u001B[38;5;28;01mif\u001B[39;00m res \u001B[38;5;129;01mis\u001B[39;00m \u001B[38;5;28;01mNone\u001B[39;00m \u001B[38;5;129;01mand\u001B[39;00m last_error \u001B[38;5;241m!=\u001B[39m \u001B[38;5;241m126\u001B[39m:\n",
      "\u001B[1;31mKeyboardInterrupt\u001B[0m: "
     ]
    }
   ],
   "execution_count": 1
  },
  {
   "metadata": {
    "ExecuteTime": {
     "end_time": "2024-07-16T14:34:49.766282Z",
     "start_time": "2024-07-16T14:34:49.735031Z"
    }
   },
   "cell_type": "code",
   "source": [
    "# Confronto Statistico per variabili numeriche\n",
    "print(\"Statistiche descrittive del dataset originale:\")\n",
    "print(val_data.describe())\n",
    "print(\"\\nStatistiche descrittive del dataset sintetico:\")\n",
    "print(synthetic_data.describe())"
   ],
   "id": "f1c30cfeb9acf721",
   "execution_count": 2,
   "outputs": []
  },
  {
   "metadata": {
    "ExecuteTime": {
     "end_time": "2024-07-16T14:34:49.781911Z",
     "start_time": "2024-07-16T14:34:49.766282Z"
    }
   },
   "cell_type": "code",
   "source": [
    "print(\"Originale:\")\n",
    "print(val_data[\"Irrigation - Decision\"].value_counts(normalize=True))\n",
    "print(\"Sintetico:\")\n",
    "print(synthetic_data[\"Irrigation - Decision\"].value_counts(normalize=True))"
   ],
   "id": "df9731f225bd33ab",
   "execution_count": 3,
   "outputs": []
  },
  {
   "metadata": {
    "ExecuteTime": {
     "end_time": "2024-07-16T14:34:50.160794Z",
     "start_time": "2024-07-16T14:34:49.781911Z"
    }
   },
   "cell_type": "code",
   "source": [
    "# Confronto delle Distribuzioni Univariate (per variabili numeriche)\n",
    "\n",
    "plt.figure(figsize=(12, 6))\n",
    "for column in val_data.select_dtypes(include=np.number).columns:\n",
    "    plt.subplot(2, len(val_data.select_dtypes(include=np.number).columns)//2, \n",
    "                list(val_data.select_dtypes(include=np.number).columns).index(column)+1)\n",
    "    plt.hist(val_data[column], alpha=0.5, label='Originale', density=True)\n",
    "    plt.hist(synthetic_data[column], alpha=0.5, label='Sintetico', density=True)\n",
    "    plt.title(column)\n",
    "    plt.legend()\n",
    "plt.tight_layout()\n",
    "plt.show()"
   ],
   "id": "8926a093c8b37f1",
   "execution_count": 4,
   "outputs": []
  },
  {
   "metadata": {
    "ExecuteTime": {
     "end_time": "2024-07-16T14:34:50.176599Z",
     "start_time": "2024-07-16T14:34:50.160794Z"
    }
   },
   "cell_type": "code",
   "source": [
    "agg_stats_original = val_data.groupby(categorical_column).agg(['mean', 'std'])\n",
    "agg_stats_synthetic = synthetic_data.groupby(categorical_column).agg(['mean', 'std'])\n",
    "\n",
    "print(\"\\nStatistiche aggregate condizionali nel dataset originale:\")\n",
    "print(agg_stats_original)\n",
    "\n",
    "print(\"\\nStatistiche aggregate condizionali nel dataset sintetico:\")\n",
    "print(agg_stats_synthetic)"
   ],
   "id": "8b0c4b5ad74579e",
   "execution_count": 5,
   "outputs": []
  },
  {
   "metadata": {
    "ExecuteTime": {
     "end_time": "2024-07-16T14:34:50.270853Z",
     "start_time": "2024-07-16T14:34:50.176599Z"
    }
   },
   "cell_type": "code",
   "source": [
    "# Data Loading & Processing\n",
    "\n",
    "excel_file = '../data/dss_rules.xlsx'\n",
    "\n",
    "fuzzy_rules_sheet = 'Rules'\n",
    "crispy_values_sheet = 'Crispy Values'\n",
    "fuzzy_values_sheet = 'Fuzzy Values'\n",
    "\n",
    "rules_df = pd.read_excel(excel_file, sheet_name=fuzzy_rules_sheet)\n",
    "rules_df = rules_df.iloc[:, :-1].rename(columns=lambda x: x.lower().replace(' ', '_'))\n",
    "crispy_df = pd.read_excel(excel_file, sheet_name=crispy_values_sheet)\n",
    "fuzzy_df = pd.read_excel(excel_file, sheet_name=fuzzy_values_sheet)\n",
    "nice_feature_names = fuzzy_df.columns[1:].tolist()\n",
    "fuzzy_df = fuzzy_df.iloc[:, 1:].rename(columns=lambda x: x.lower().replace(' ', '_'))\n",
    "\n",
    "# Feature Names\n",
    "input_variables = rules_df.columns[:-1].tolist()\n",
    "output_variable = rules_df.columns[-1]\n",
    "\n",
    "# Category Names\n",
    "crispy_input = crispy_df.iloc[:, 0].dropna().values\n",
    "crispy_output = crispy_df.iloc[:, 1].dropna().values\n",
    "\n",
    "# Summary Values\n",
    "fuzzy_values = fuzzy_df.values\n",
    "fuzzy_min = fuzzy_values[0]\n",
    "fuzzy_max = fuzzy_values[1]\n",
    "num_classes = fuzzy_values[2].astype(int)\n",
    "\n",
    "\n",
    "# Fuzzy Input Variables (Universe & Membership Function)\n",
    "\n",
    "feature_dict = {}\n",
    "universe_dict = {}\n",
    "\n",
    "for var, min_val, max_val, num_class in zip(input_variables, fuzzy_min[:-1], fuzzy_max[:-1], num_classes[:-1]):\n",
    "    feature_dict[var] = {}\n",
    "    fraction_range = (max_val - min_val) / (num_class - 1)\n",
    "    universe = np.arange(min_val - 2 * fraction_range, max_val + 2 * fraction_range + 1, 1)\n",
    "    universe_dict[var] = universe\n",
    "    for i, term_name in enumerate(crispy_input):\n",
    "        if i == 0:\n",
    "            feature_dict[var] = ctrl.Antecedent(universe, var)\n",
    "            term_range = [min_val - 2 * fraction_range, min_val - 2 * fraction_range, min_val, min_val + fraction_range]\n",
    "            feature_dict[var][term_name] = fuzz.trapmf(feature_dict[var].universe, term_range)\n",
    "        elif i == num_class - 1:\n",
    "            term_range = [max_val - fraction_range, max_val, max_val + 2 * fraction_range, max_val + 2 * fraction_range]\n",
    "            feature_dict[var][term_name] = fuzz.trapmf(feature_dict[var].universe, term_range)\n",
    "        else:\n",
    "            term_range = [min_val + (i - 1) * fraction_range, min_val + i * fraction_range, min_val + (i + 1) * fraction_range]\n",
    "            feature_dict[var][term_name] = fuzz.trimf(feature_dict[var].universe, term_range)\n",
    "\n",
    "\n",
    "# Fuzzy Output Variable\n",
    "\n",
    "var = output_variable\n",
    "min_val = fuzzy_min[-1]\n",
    "max_val = fuzzy_max[-1]\n",
    "num_class = num_classes[-1]\n",
    "\n",
    "feature_dict[var] = {}\n",
    "fraction_range = (max_val - min_val) / (num_class - 1)\n",
    "universe = np.arange(min_val - 2 * fraction_range, max_val + 2 * fraction_range + 1, 1)\n",
    "universe_dict[var] = universe\n",
    "for i, term_name in enumerate(crispy_output):\n",
    "    if i == 0:\n",
    "        feature_dict[var] = ctrl.Consequent(universe, var)\n",
    "        term_range = [min_val - 2 * fraction_range, min_val - 2 * fraction_range, min_val, min_val + fraction_range]\n",
    "        feature_dict[var][term_name] = fuzz.trapmf(feature_dict[var].universe, term_range)\n",
    "    elif i == num_class - 1:\n",
    "        term_range = [max_val - fraction_range, max_val, max_val + 2 * fraction_range, max_val + 2 * fraction_range]\n",
    "        feature_dict[var][term_name] = fuzz.trapmf(feature_dict[var].universe, term_range)\n",
    "    else:\n",
    "        term_range = [min_val + (i - 1) * fraction_range, min_val + i * fraction_range, min_val + (i + 1) * fraction_range]\n",
    "        feature_dict[var][term_name] = fuzz.trimf(feature_dict[var].universe, term_range)\n",
    "        \n",
    "\n",
    "# Fuzzy Rules\n",
    "\n",
    "rule_dict = {}\n",
    "\n",
    "n_rules = rules_df.shape[0]\n",
    "n_features = rules_df.shape[1]\n",
    "\n",
    "for i in range(n_rules):\n",
    "    term_input = None\n",
    "    term_output = None\n",
    "    \n",
    "    for j in range(n_features):\n",
    "\n",
    "        if j == 0:\n",
    "            term_input = feature_dict[rules_df.columns.tolist()[j]][rules_df.iloc[i, j]]\n",
    "\n",
    "        elif j == n_features-1:\n",
    "            term_output = feature_dict[rules_df.columns.tolist()[j]][rules_df.iloc[i, j]]\n",
    "\n",
    "        elif not pd.isna(rules_df.iloc[i, j]):\n",
    "            term_input = term_input & feature_dict[rules_df.columns.tolist()[j]][rules_df.iloc[i, j]]\n",
    "\n",
    "        else:\n",
    "            continue\n",
    "\n",
    "    rule_dict[i] = ctrl.Rule(antecedent = term_input, consequent = term_output)\n",
    "\n",
    "\n",
    "# Control System Creation & Simulation\n",
    "\n",
    "rule_vector = []\n",
    "\n",
    "for i in range(len(rule_dict)):\n",
    "    rule_vector.append(rule_dict[i])\n",
    "\n",
    "dss_ctrl = ctrl.ControlSystem(rule_vector)\n",
    "dss = ctrl.ControlSystemSimulation(dss_ctrl, flush_after_run=100 * 100 + 1)        "
   ],
   "id": "14f4aec8a5ffce8a",
   "execution_count": 6,
   "outputs": []
  },
  {
   "metadata": {
    "ExecuteTime": {
     "end_time": "2024-07-16T14:34:50.286386Z",
     "start_time": "2024-07-16T14:34:50.270853Z"
    }
   },
   "cell_type": "code",
   "source": [
    "def make_fuzzy_predictions(input_data, dss, input_variables, output_variable):\n",
    "    for column, (min_val, max_val) in input_variables.items():\n",
    "        input_data[column] = np.clip(input_data[column], min_val, max_val)\n",
    "    \n",
    "    # Make predictions\n",
    "    predictions = []\n",
    "    for _, row in input_data.iterrows():\n",
    "        for var in row.index:\n",
    "            dss.input[var] = row[var]\n",
    "        dss.compute()\n",
    "        predictions.append(dss.output[output_variable])\n",
    "    \n",
    "    return pd.Series(predictions, name=output_variable)\n",
    "\n",
    "# Define input variables with their ranges\n",
    "input_variables = {\n",
    "    'Current Avg Tensiometer': (50, 650),\n",
    "    'Predicted Avg Tensiometer': (50, 650),\n",
    "    'Predicted Rain Amount': (0, 40),\n",
    "    'Predicted Max Temperature': (5, 40)\n",
    "}"
   ],
   "id": "6cb60615538db65f",
   "execution_count": 7,
   "outputs": []
  },
  {
   "metadata": {
    "ExecuteTime": {
     "end_time": "2024-07-16T14:34:50.302435Z",
     "start_time": "2024-07-16T14:34:50.286386Z"
    }
   },
   "cell_type": "code",
   "source": [
    "# Extract the first three rows of synthetic_data and remove the last column\n",
    "input_data = synthetic_data.iloc[:3, :-1]\n",
    "input_data.columns = input_data.columns.str.replace(' ', '_').str.lower()\n",
    "\n",
    "input_data"
   ],
   "id": "f340b02d128f1137",
   "execution_count": 8,
   "outputs": []
  },
  {
   "metadata": {
    "ExecuteTime": {
     "end_time": "2024-07-16T14:34:50.972033Z",
     "start_time": "2024-07-16T14:34:50.302435Z"
    }
   },
   "cell_type": "code",
   "source": "predi = make_fuzzy_predictions(input_data, dss, input_variables, 'Irrigation - Decision')",
   "id": "402ba1c0929423de",
   "execution_count": 9,
   "outputs": []
  },
  {
   "metadata": {},
   "cell_type": "code",
   "execution_count": null,
   "source": "",
   "id": "8e8ab1ec24fe9ba6",
   "outputs": []
  }
 ],
 "metadata": {
  "kernelspec": {
   "display_name": "Python 3",
   "language": "python",
   "name": "python3"
  },
  "language_info": {
   "codemirror_mode": {
    "name": "ipython",
    "version": 2
   },
   "file_extension": ".py",
   "mimetype": "text/x-python",
   "name": "python",
   "nbconvert_exporter": "python",
   "pygments_lexer": "ipython2",
   "version": "2.7.6"
  }
 },
 "nbformat": 4,
 "nbformat_minor": 5
}
